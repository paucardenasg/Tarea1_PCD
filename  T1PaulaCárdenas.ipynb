{
 "cells": [
  {
   "cell_type": "markdown",
   "metadata": {},
   "source": [
    "# <font color = 'blue'> Tarea 1: Resumen sobre Artículos </font>\n",
    "## <font color= 'darkblue'> Proyecto de Ciencia de Datos </font>\n",
    "### Paula Daniela Cárdenas Gallardo\n",
    "> Lunes 22 de agosto del 2022\n",
    "___\n",
    "<font color = 'teal'> **Instrucciones:** </font> <br>\n",
    "Realizar un resumen de al menos uno de los siguientes artículos donde se resalta la importancia del despliegue en producción de proyectos de ML:\n",
    "+ [Liga 1](https://odsc.medium.com/what-are-mlops-and-why-does-it-matter-8cff060d4067)\n",
    "+ [Liga 2](https://medium.com/@selfouly/mlops-done-right-47cec1dbfc8d)\n",
    "+ [Liga 3](https://towardsdatascience.com/a-gentle-introduction-to-mlops-7d64a3e890ff)\n",
    "+ [Liga 4](https://valohai.com/blog/why-mlops-is-vital-to-your-development-team/)"
   ]
  },
  {
   "cell_type": "markdown",
   "metadata": {},
   "source": [
    "___\n",
    "**`What are MLOps and Why Does it Matter?`** <br>\n",
    "*`Por ODSC - Open Data Science`*\n",
    "\n",
    "El primer artículo, entre varias cosas, menciona brevemente los antecedentes de las operaciones de *Machine Learning (MLOps)*. Explica cómo se fue requiriendo la sistematización de organizaciones debido al aumento de maquinaria durante la Revolución Industrial. Además dice que durante el primer auge tecnológico, los sistemas permitieron operacionalizar el ciclo de vida del producto y automatizar los procesos de creación. Hoy en día son bastantes las empresas que recurren a los conocimientos de aprendizaje automático.\n",
    "\n",
    "Asimismo, define a las MLOps como la comunicación entre científicos de datos y las operaciones. Las MLOps permiten que los científicos de datos tengan la libertad de hacer lo que mejor saben hacer; encontrar respuestas. Otra cosa interesante que menciona el artículo de *Open Data Science* es que la operacionalización ayuda a cerrar el ciclo entre obtener información y convertirla en un valor comercial procesable. Además, adoptar MLOps en las empresas trae ventajas como la combinación del conocimiento del negocio y el entendimiento de los datos para un aprendizaje máquina más eficiente y provechoso, así como estar a la vanguardia de nuevas regulaciones y mejores prácticas.\n",
    "\n",
    "Por otro lado, enlista un conjunto de recomendaciones para introducir MLOps a una empresa:\n",
    "+ `Reconocer cuáles son los puntos de referencia:` Tener *KPIs* (*Key Performance Indicators* por sus siglas en inglés) claros y medibles.\n",
    "+ `Verificar quién monitorea:` Dado que se utilizan funciones matemáticas no intuitivas, es importante tener un monitoreo constante para garantizar que todo esté operando correctamente.\n",
    "+ `Saber cómo asegurar cumplimiento:` Simplemente tener un plan integral para garantizar el funcionamiento.\n",
    "\n",
    "Finalmente, el artículo describe que para comenzar con MLOps no será suficiente dejar que los científicos de datos traten de averiguar cómo funciona el negocio, sino que es crucial que haya una responsabilidad a nivel operativo y un ambiente colaborativo."
   ]
  },
  {
   "cell_type": "markdown",
   "metadata": {},
   "source": [
    "___\n",
    "**`Why MLOps Is Vital To Your Development Team`** <br>\n",
    "*`Por Henrik Skogström`*\n",
    "\n",
    "A grandes rasgos, a través de este artículo, Henrik Skogström menciona tres beneficios de las MLOps:\n",
    "1. `Evitan cuellos de botella:` Si el software se detuviera en cualquier etapa del proceso, se perdería productividad. Las plataformas con MLOps mantienen todo el trabajo versionado, documentado y compartido, facilitando que el equipo de desarrollo vea y comprenda el progreso del proyecto.\n",
    "\n",
    "\n",
    "2. `Previenen la fatiga:` Si los proyectos de aprendizaje automático no llegan a la meta, se puede volver frustrante. La práctica de MLOps guía al equipo a dividir el trabajo de manera efectiva y a automatizar el trabajo manual. Se cambia el pensamiento de centrado en el modelo a centrado en la canalización, así el modelo es el producto final, y cada nueva versión será tratada como un nuevo proyecto.\n",
    "\n",
    "\n",
    "3. `Implementan un estricto control de versiones:` Las predicciones servidas por un modelo deben ser explicables, así como la manera en la que se entrenó el modelo, lo cual incluye versionar el código y los datos utilizados. Además del cumplimiento normativo, el control de versiones adecuado para datos, código y modelos entrenados ayuda si hay cambios en el equipo de desarrollo, de esta manera se mitigarán riesgos y, con las herramientas adecuadas, será automático."
   ]
  },
  {
   "cell_type": "code",
   "execution_count": null,
   "metadata": {},
   "outputs": [],
   "source": []
  }
 ],
 "metadata": {
  "kernelspec": {
   "display_name": "Python 3",
   "language": "python",
   "name": "python3"
  },
  "language_info": {
   "codemirror_mode": {
    "name": "ipython",
    "version": 3
   },
   "file_extension": ".py",
   "mimetype": "text/x-python",
   "name": "python",
   "nbconvert_exporter": "python",
   "pygments_lexer": "ipython3",
   "version": "3.8.5"
  }
 },
 "nbformat": 4,
 "nbformat_minor": 4
}

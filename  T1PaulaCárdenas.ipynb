{
 "cells": [
  {
   "cell_type": "markdown",
   "metadata": {},
   "source": [
    "# <font color = 'blue'> Tarea 1: Resumen sobre Artículos </font>\n",
    "## <font color= 'darkblue'> Resumen sobre Artículos </font>\n",
    "### Paula Daniela Cárdenas Gallardo\n",
    "> Lunes 22 de agosto del 2022\n",
    "___\n",
    "<font color = 'teal'> **`Instrucciones:`** </font> <br>\n",
    "Realizar un resumen de al menos uno de los siguientes artículos donde se resalta la importancia del despliegue en producción de proyectos de ML:\n",
    "+ [Liga 1](https://odsc.medium.com/what-are-mlops-and-why-does-it-matter-8cff060d4067)\n",
    "+ [Liga 2](https://medium.com/@selfouly/mlops-done-right-47cec1dbfc8d)\n",
    "+ [Liga 3](https://towardsdatascience.com/a-gentle-introduction-to-mlops-7d64a3e890ff)\n",
    "+ [Liga 4](https://valohai.com/blog/why-mlops-is-vital-to-your-development-team/)"
   ]
  },
  {
   "cell_type": "markdown",
   "metadata": {},
   "source": []
  }
 ],
 "metadata": {
  "kernelspec": {
   "display_name": "Python 3",
   "language": "python",
   "name": "python3"
  },
  "language_info": {
   "codemirror_mode": {
    "name": "ipython",
    "version": 3
   },
   "file_extension": ".py",
   "mimetype": "text/x-python",
   "name": "python",
   "nbconvert_exporter": "python",
   "pygments_lexer": "ipython3",
   "version": "3.8.5"
  }
 },
 "nbformat": 4,
 "nbformat_minor": 4
}
